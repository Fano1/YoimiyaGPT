{
 "cells": [
  {
   "cell_type": "code",
   "execution_count": 12,
   "id": "353364bf",
   "metadata": {},
   "outputs": [],
   "source": [
    "import tiktoken "
   ]
  },
  {
   "cell_type": "code",
   "execution_count": 13,
   "id": "42980b19",
   "metadata": {},
   "outputs": [
    {
     "name": "stdout",
     "output_type": "stream",
     "text": [
      "1115394\n",
      "first one thousand charater\n",
      "First Citizen:\n",
      "Before we proceed any further, hear me speak.\n",
      "\n",
      "All:\n",
      "Speak, speak.\n",
      "\n",
      "First Citizen:\n",
      "You are all resolved rather to die than to famish?\n",
      "\n",
      "All:\n",
      "Resolved. resolved.\n",
      "\n",
      "First Citizen:\n",
      "First, you know Caius Marcius is chief enemy to the people.\n",
      "\n",
      "All:\n",
      "We know't, we know't.\n",
      "\n",
      "First Citizen:\n",
      "Let us kill him, and we'll have corn at our own price.\n",
      "Is't a verdict?\n",
      "\n",
      "All:\n",
      "No more talking on't; let it be done: away, away!\n",
      "\n",
      "Second Citizen:\n",
      "One word, good citizens.\n",
      "\n",
      "First Citizen:\n",
      "We are accounted poor citizens, the patricians good.\n",
      "What authority surfeits on would relieve us: if they\n",
      "would yield us but the superfluity, while it were\n",
      "wholesome, we might guess they relieved us humanely;\n",
      "but they think we are too dear: the leanness that\n",
      "afflicts us, the object of our misery, is as an\n",
      "inventory to particularise their abundance; our\n",
      "sufferance is a gain to them Let us revenge this with\n",
      "our pikes, ere we become rakes: for the gods know I\n",
      "speak this in hunger for bread, not in thirst for revenge.\n",
      "\n",
      "\n"
     ]
    }
   ],
   "source": [
    "with open(\"datask.txt\", \"r\", encoding=\"utf-8\") as f:\n",
    "    text = f.read()\n",
    "\n",
    "length = len(text)\n",
    "print(length)\n",
    "\n",
    "print(\"first one thousand charater\")\n",
    "chars = text[:1000]\n",
    "print(chars)"
   ]
  },
  {
   "cell_type": "code",
   "execution_count": 14,
   "id": "f8bc3fed",
   "metadata": {},
   "outputs": [
    {
     "name": "stdout",
     "output_type": "stream",
     "text": [
      "['\\n', ' ', '!', '$', '&', \"'\", ',', '-', '.', '3', ':', ';', '?', 'A', 'B', 'C', 'D', 'E', 'F', 'G', 'H', 'I', 'J', 'K', 'L', 'M', 'N', 'O', 'P', 'Q', 'R', 'S', 'T', 'U', 'V', 'W', 'X', 'Y', 'Z', 'a', 'b', 'c', 'd', 'e', 'f', 'g', 'h', 'i', 'j', 'k', 'l', 'm', 'n', 'o', 'p', 'q', 'r', 's', 't', 'u', 'v', 'w', 'x', 'y', 'z']\n"
     ]
    }
   ],
   "source": [
    "#all possible character\n",
    "chars = set(text)\n",
    "lst = sorted(list(chars))\n",
    "print(lst)\n",
    "\n",
    "\n",
    "vocabSize = len(lst)\n"
   ]
  },
  {
   "cell_type": "code",
   "execution_count": 15,
   "id": "5cb84b91",
   "metadata": {},
   "outputs": [
    {
     "name": "stdout",
     "output_type": "stream",
     "text": [
      "[38, 1, 62, 62, 25]\n",
      "hello\n"
     ]
    }
   ],
   "source": [
    "#Encoder and decoder\n",
    "#we can use tiktoken too\n",
    "stoi = {ch: i for i, ch in enumerate(chars)}\n",
    "itos = {i: ch for i, ch in enumerate(chars)}\n",
    "\n",
    "encode = lambda s: [stoi[x] for x in s]\n",
    "decode = lambda l: ''.join([itos[i] for i in l])\n",
    "\n",
    "print(encode(\"hello\"))\n",
    "print(decode([38, 1, 62, 62, 25]))\n"
   ]
  },
  {
   "cell_type": "code",
   "execution_count": 16,
   "id": "a17cf9a5",
   "metadata": {},
   "outputs": [
    {
     "data": {
      "text/plain": [
       "tensor([ 3.,  9., 21., 16., 33., 47.,  2.,  7., 27., 40., 57., 13., 42., 56.,\n",
       "        17., 34., 41., 36., 61.,  4., 60., 58., 22., 52., 45., 59., 49., 53.,\n",
       "        26., 19., 54., 51., 55., 39., 43., 46., 31., 28., 50., 12., 24., 64.,\n",
       "        15.,  1., 18., 11., 38., 35., 29., 48., 62.,  6., 14., 25., 32., 44.,\n",
       "        10.,  0., 20., 23., 37., 30.,  8., 63.,  5.])"
      ]
     },
     "execution_count": 16,
     "metadata": {},
     "output_type": "execute_result"
    }
   ],
   "source": [
    "import torch\n",
    "data = torch.Tensor(encode(lst[:1000]))\n",
    "data"
   ]
  },
  {
   "cell_type": "code",
   "execution_count": null,
   "id": "26050820",
   "metadata": {},
   "outputs": [
    {
     "data": {
      "text/plain": [
       "tensor([ 3.,  9., 21., 16., 33., 47.,  2.,  7.])"
      ]
     },
     "execution_count": 18,
     "metadata": {},
     "output_type": "execute_result"
    }
   ],
   "source": [
    "#lets make the train and test data split set kinda unsupervised learning\n",
    "n = int(0.9 * len(data))\n",
    "train_data = data[:n]\n",
    "test_data = data[n:]\n",
    "\n",
    "block_size = 8 #chunk of text to train the data on\n",
    "train_data[:block_size+1]\n"
   ]
  },
  {
   "cell_type": "code",
   "execution_count": 20,
   "id": "d65242f3",
   "metadata": {},
   "outputs": [
    {
     "name": "stdout",
     "output_type": "stream",
     "text": [
      "when input is tensor([3.]), the target is 9.0\n",
      "when input is tensor([3., 9.]), the target is 21.0\n",
      "when input is tensor([ 3.,  9., 21.]), the target is 16.0\n",
      "when input is tensor([ 3.,  9., 21., 16.]), the target is 33.0\n",
      "when input is tensor([ 3.,  9., 21., 16., 33.]), the target is 47.0\n",
      "when input is tensor([ 3.,  9., 21., 16., 33., 47.]), the target is 2.0\n",
      "when input is tensor([ 3.,  9., 21., 16., 33., 47.,  2.]), the target is 7.0\n",
      "when input is tensor([ 3.,  9., 21., 16., 33., 47.,  2.,  7.]), the target is 27.0\n"
     ]
    }
   ],
   "source": [
    "x = train_data[:block_size]\n",
    "y = train_data[1:block_size+1]\n",
    "\n",
    "for t in range(block_size):\n",
    "    context = x[:t+1]\n",
    "    target = y[t]\n",
    "    print(f\"when input is {context}, the target is {target}\")\n"
   ]
  },
  {
   "cell_type": "code",
   "execution_count": 28,
   "id": "9e4aefbb",
   "metadata": {},
   "outputs": [
    {
     "name": "stdout",
     "output_type": "stream",
     "text": [
      "inputs:\n",
      "torch.Size([4, 8])\n",
      "tensor([[34, 41, 36, 61,  4, 60, 58, 22],\n",
      "        [ 7, 27, 40, 57, 13, 42, 56, 17],\n",
      "        [15,  1, 18, 11, 38, 35, 29, 48],\n",
      "        [ 3,  9, 21, 16, 33, 47,  2,  7]])\n",
      "targets:\n",
      "torch.Size([4, 8])\n",
      "tensor([[41, 36, 61,  4, 60, 58, 22, 52],\n",
      "        [27, 40, 57, 13, 42, 56, 17, 34],\n",
      "        [ 1, 18, 11, 38, 35, 29, 48, 62],\n",
      "        [ 9, 21, 16, 33, 47,  2,  7, 27]])\n",
      "----\n",
      "when input is [34] the target: 41\n",
      "when input is [34, 41] the target: 36\n",
      "when input is [34, 41, 36] the target: 61\n",
      "when input is [34, 41, 36, 61] the target: 4\n",
      "when input is [34, 41, 36, 61, 4] the target: 60\n",
      "when input is [34, 41, 36, 61, 4, 60] the target: 58\n",
      "when input is [34, 41, 36, 61, 4, 60, 58] the target: 22\n",
      "when input is [34, 41, 36, 61, 4, 60, 58, 22] the target: 52\n",
      "when input is [7] the target: 27\n",
      "when input is [7, 27] the target: 40\n",
      "when input is [7, 27, 40] the target: 57\n",
      "when input is [7, 27, 40, 57] the target: 13\n",
      "when input is [7, 27, 40, 57, 13] the target: 42\n",
      "when input is [7, 27, 40, 57, 13, 42] the target: 56\n",
      "when input is [7, 27, 40, 57, 13, 42, 56] the target: 17\n",
      "when input is [7, 27, 40, 57, 13, 42, 56, 17] the target: 34\n",
      "when input is [15] the target: 1\n",
      "when input is [15, 1] the target: 18\n",
      "when input is [15, 1, 18] the target: 11\n",
      "when input is [15, 1, 18, 11] the target: 38\n",
      "when input is [15, 1, 18, 11, 38] the target: 35\n",
      "when input is [15, 1, 18, 11, 38, 35] the target: 29\n",
      "when input is [15, 1, 18, 11, 38, 35, 29] the target: 48\n",
      "when input is [15, 1, 18, 11, 38, 35, 29, 48] the target: 62\n",
      "when input is [3] the target: 9\n",
      "when input is [3, 9] the target: 21\n",
      "when input is [3, 9, 21] the target: 16\n",
      "when input is [3, 9, 21, 16] the target: 33\n",
      "when input is [3, 9, 21, 16, 33] the target: 47\n",
      "when input is [3, 9, 21, 16, 33, 47] the target: 2\n",
      "when input is [3, 9, 21, 16, 33, 47, 2] the target: 7\n",
      "when input is [3, 9, 21, 16, 33, 47, 2, 7] the target: 27\n",
      "torch.int64\n"
     ]
    }
   ],
   "source": [
    "torch.manual_seed(1337)\n",
    "batch_size = 4 # how many independent sequences will we process in parallel?\n",
    "block_size = 8 # what is the maximum context length for predictions?\n",
    "\n",
    "def get_batch(split):\n",
    "    # generate a small batch of data of inputs x and targets y\n",
    "    data = train_data if split == 'train' else test_data\n",
    "    ix = torch.randint(len(data) - block_size, (batch_size,))\n",
    "    x = torch.stack([data[i:i+block_size] for i in ix])\n",
    "    y = torch.stack([data[i+1:i+block_size+1] for i in ix])\n",
    "    return x.long(), y.long()\n",
    "\n",
    "xb, yb = get_batch('train')\n",
    "print('inputs:')\n",
    "print(xb.shape)\n",
    "print(xb)\n",
    "print('targets:')\n",
    "print(yb.shape)\n",
    "print(yb)\n",
    "\n",
    "print('----')\n",
    "\n",
    "for b in range(batch_size): # batch dimension\n",
    "    for t in range(block_size): # time dimension\n",
    "        context = xb[b, :t+1]\n",
    "        target = yb[b,t]\n",
    "        print(f\"when input is {context.tolist()} the target: {target}\")\n",
    "\n",
    "print(xb.dtype)\n"
   ]
  },
  {
   "cell_type": "code",
   "execution_count": 41,
   "id": "f63295ca",
   "metadata": {},
   "outputs": [
    {
     "name": "stdout",
     "output_type": "stream",
     "text": [
      "torch.Size([32, 65])\n",
      "tensor(4.7199, grad_fn=<NllLossBackward0>)\n"
     ]
    }
   ],
   "source": [
    "\n",
    "\n",
    "from turtle import forward\n",
    "import torch\n",
    "import torch.nn as nn\n",
    "from torch.nn import functional as f \n",
    "\n",
    "class BigramlanguageModel(nn.Module):\n",
    "    def __init__(self, vocabSize):\n",
    "        super().__init__()\n",
    "        self.tokenEmbedding_table = nn.Embedding(vocabSize, vocabSize)\n",
    "    \n",
    "    def forward(self, idx, targets):\n",
    "        logits = self.tokenEmbedding_table(idx) #BTC\n",
    "\n",
    "        B, T, C = logits.shape\n",
    "        logits = logits.view(B*T, C)\n",
    "        targets = targets.view(B*T)\n",
    "\n",
    "\n",
    "        loss = f.cross_entropy(logits, targets)\n",
    "        \n",
    "        return logits, loss\n",
    "\n",
    "\n",
    "m = BigramlanguageModel(vocabSize=vocabSize)\n",
    "logits, loss = m(xb, yb)\n",
    "print(logits.shape)\n",
    "print(loss)"
   ]
  }
 ],
 "metadata": {
  "kernelspec": {
   "display_name": "Python 3",
   "language": "python",
   "name": "python3"
  },
  "language_info": {
   "codemirror_mode": {
    "name": "ipython",
    "version": 3
   },
   "file_extension": ".py",
   "mimetype": "text/x-python",
   "name": "python",
   "nbconvert_exporter": "python",
   "pygments_lexer": "ipython3",
   "version": "3.13.2"
  }
 },
 "nbformat": 4,
 "nbformat_minor": 5
}
